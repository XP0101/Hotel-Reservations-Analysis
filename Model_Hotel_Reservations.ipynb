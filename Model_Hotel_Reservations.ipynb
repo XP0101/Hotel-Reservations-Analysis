{
  "cells": [
    {
      "cell_type": "markdown",
      "metadata": {
        "id": "Iml2u2Xa5Uog"
      },
      "source": [
        "# <center> **Hotel Reservations** </center>\n",
        "### **Giới thiệu bộ dữ liệu:**\n",
        "- Hiện nay có rất nhiều kênh đặt phòng khách sạn trực tuyến, nó khiến cho việc đặt phòng trở nên dễ dàng hơn. Nhưng cũng chính vì thế việc hủy đặt phòng cũng dễ dàng. Những lý do chính cho việc hủy bỏ là thay đổi kế hoạch, xung đột lịch trình,...Việc hủy bỏ làm ảnh hưởng xấu đến doanh thu của khách sạn. \n",
        "\n",
        "- Bộ dữ liệu bao gồm 19 đặc trưng thông tin chi tiết của khách đặt phòng:\n",
        "  - **Booking_ID**: đinh danh cá nhân mỗi lần đặt phòng\n",
        "  - **no_of_adults**: Số lượng người lớn\n",
        "  - **no_of_children**: Số lượng trẻ em\n",
        "  - **no_of_weekend_nights**: Số đêm cuối tuần (T7, CN), khách ở lại hoặc đã đặt chỗ.\n",
        "  - **no_of_week_nights**: Số đêm trong tuần (T2 - T6), khách ở lại hoặc đã đặt chỗ.\n",
        "  - **type_of_meal_plan**: Loại kế hoạch bữa ăn được đặt bởi khách hàng.\n",
        "  - **required_car_parking_space**: Khách hàng có yêu cầu chỗ đặt xe hơi hay không? (0 - No, 1 - Yes)\n",
        "  - **room_type_reserved**: Loại phòng khách hàng đặt\n",
        "  - **lead_time**: Số ngày giữa ngày đặt phòng và ngày đến.\n",
        "  - **arrival_year**: Năm đến.\n",
        "  - **arrival_month**: Tháng đến.\n",
        "  - **arrival_date**: Ngày đến.\n",
        "  - **market_segment_type**: Loại phân khúc thị trường.\n",
        "  - **repeated_guest**: Có phải là khách cũ hay không? (0 - No, 1 - Yes)\n",
        "  - **no_of_previous_cancellations**: Số lượng đặt phòng trước đó đã bị khách hàng hủy bỏ trước khi đặt phòng hiện tại.\n",
        "  - **no_of_previous_bookings_not_canceled**: Số lượng đặt phòng trước đó không bị khách hàng hủy bỏ trước khi đặt phòng hiện tại.\n",
        "  - **avg_price_per_room**: Giá trung bình mỗi ngày đặt phòng, giá phòng là linh động.\n",
        "  - **no_of_special_requests**: Số lượng yêu cầu đặc biệt của khách hàng (VD: tầng trên cao, view biển,...).\n",
        "  - **booking_status**: Trạng thái cho biết phòng đó bị hủy hay không?\n",
        "\n",
        "- Nguồn dữ liệu:  **[Kaggle](https://www.kaggle.com/datasets/ahsan81/hotel-reservations-classification-dataset)**\n"
      ]
    },
    {
      "cell_type": "markdown",
      "metadata": {
        "id": "RujgWvzJf4F_"
      },
      "source": [
        "# **Tiền xử lý dữ liệu:**"
      ]
    },
    {
      "cell_type": "code",
      "execution_count": null,
      "metadata": {
        "colab": {
          "base_uri": "https://localhost:8080/",
          "height": 270
        },
        "id": "5DVeZQeN4noz",
        "outputId": "4441913f-bae5-4642-907e-5d1414e41a71"
      },
      "outputs": [
        {
          "output_type": "execute_result",
          "data": {
            "text/plain": [
              "  Booking_ID  no_of_adults  no_of_children  no_of_weekend_nights  \\\n",
              "0   INN00001             2               0                     1   \n",
              "1   INN00002             2               0                     2   \n",
              "2   INN00003             1               0                     2   \n",
              "3   INN00004             2               0                     0   \n",
              "4   INN00005             2               0                     1   \n",
              "\n",
              "   no_of_week_nights type_of_meal_plan  required_car_parking_space  \\\n",
              "0                  2       Meal Plan 1                           0   \n",
              "1                  3      Not Selected                           0   \n",
              "2                  1       Meal Plan 1                           0   \n",
              "3                  2       Meal Plan 1                           0   \n",
              "4                  1      Not Selected                           0   \n",
              "\n",
              "  room_type_reserved  lead_time  arrival_year  arrival_month  arrival_date  \\\n",
              "0        Room_Type 1        224          2017             10             2   \n",
              "1        Room_Type 1          5          2018             11             6   \n",
              "2        Room_Type 1          1          2018              2            28   \n",
              "3        Room_Type 1        211          2018              5            20   \n",
              "4        Room_Type 1         48          2018              4            11   \n",
              "\n",
              "  market_segment_type  repeated_guest  no_of_previous_cancellations  \\\n",
              "0             Offline               0                             0   \n",
              "1              Online               0                             0   \n",
              "2              Online               0                             0   \n",
              "3              Online               0                             0   \n",
              "4              Online               0                             0   \n",
              "\n",
              "   no_of_previous_bookings_not_canceled  avg_price_per_room  \\\n",
              "0                                     0               65.00   \n",
              "1                                     0              106.68   \n",
              "2                                     0               60.00   \n",
              "3                                     0              100.00   \n",
              "4                                     0               94.50   \n",
              "\n",
              "   no_of_special_requests booking_status  \n",
              "0                       0   Not_Canceled  \n",
              "1                       1   Not_Canceled  \n",
              "2                       0       Canceled  \n",
              "3                       0       Canceled  \n",
              "4                       0       Canceled  "
            ],
            "text/html": [
              "\n",
              "  <div id=\"df-45da0789-26db-4d11-ad45-ea572c65b3c3\">\n",
              "    <div class=\"colab-df-container\">\n",
              "      <div>\n",
              "<style scoped>\n",
              "    .dataframe tbody tr th:only-of-type {\n",
              "        vertical-align: middle;\n",
              "    }\n",
              "\n",
              "    .dataframe tbody tr th {\n",
              "        vertical-align: top;\n",
              "    }\n",
              "\n",
              "    .dataframe thead th {\n",
              "        text-align: right;\n",
              "    }\n",
              "</style>\n",
              "<table border=\"1\" class=\"dataframe\">\n",
              "  <thead>\n",
              "    <tr style=\"text-align: right;\">\n",
              "      <th></th>\n",
              "      <th>Booking_ID</th>\n",
              "      <th>no_of_adults</th>\n",
              "      <th>no_of_children</th>\n",
              "      <th>no_of_weekend_nights</th>\n",
              "      <th>no_of_week_nights</th>\n",
              "      <th>type_of_meal_plan</th>\n",
              "      <th>required_car_parking_space</th>\n",
              "      <th>room_type_reserved</th>\n",
              "      <th>lead_time</th>\n",
              "      <th>arrival_year</th>\n",
              "      <th>arrival_month</th>\n",
              "      <th>arrival_date</th>\n",
              "      <th>market_segment_type</th>\n",
              "      <th>repeated_guest</th>\n",
              "      <th>no_of_previous_cancellations</th>\n",
              "      <th>no_of_previous_bookings_not_canceled</th>\n",
              "      <th>avg_price_per_room</th>\n",
              "      <th>no_of_special_requests</th>\n",
              "      <th>booking_status</th>\n",
              "    </tr>\n",
              "  </thead>\n",
              "  <tbody>\n",
              "    <tr>\n",
              "      <th>0</th>\n",
              "      <td>INN00001</td>\n",
              "      <td>2</td>\n",
              "      <td>0</td>\n",
              "      <td>1</td>\n",
              "      <td>2</td>\n",
              "      <td>Meal Plan 1</td>\n",
              "      <td>0</td>\n",
              "      <td>Room_Type 1</td>\n",
              "      <td>224</td>\n",
              "      <td>2017</td>\n",
              "      <td>10</td>\n",
              "      <td>2</td>\n",
              "      <td>Offline</td>\n",
              "      <td>0</td>\n",
              "      <td>0</td>\n",
              "      <td>0</td>\n",
              "      <td>65.00</td>\n",
              "      <td>0</td>\n",
              "      <td>Not_Canceled</td>\n",
              "    </tr>\n",
              "    <tr>\n",
              "      <th>1</th>\n",
              "      <td>INN00002</td>\n",
              "      <td>2</td>\n",
              "      <td>0</td>\n",
              "      <td>2</td>\n",
              "      <td>3</td>\n",
              "      <td>Not Selected</td>\n",
              "      <td>0</td>\n",
              "      <td>Room_Type 1</td>\n",
              "      <td>5</td>\n",
              "      <td>2018</td>\n",
              "      <td>11</td>\n",
              "      <td>6</td>\n",
              "      <td>Online</td>\n",
              "      <td>0</td>\n",
              "      <td>0</td>\n",
              "      <td>0</td>\n",
              "      <td>106.68</td>\n",
              "      <td>1</td>\n",
              "      <td>Not_Canceled</td>\n",
              "    </tr>\n",
              "    <tr>\n",
              "      <th>2</th>\n",
              "      <td>INN00003</td>\n",
              "      <td>1</td>\n",
              "      <td>0</td>\n",
              "      <td>2</td>\n",
              "      <td>1</td>\n",
              "      <td>Meal Plan 1</td>\n",
              "      <td>0</td>\n",
              "      <td>Room_Type 1</td>\n",
              "      <td>1</td>\n",
              "      <td>2018</td>\n",
              "      <td>2</td>\n",
              "      <td>28</td>\n",
              "      <td>Online</td>\n",
              "      <td>0</td>\n",
              "      <td>0</td>\n",
              "      <td>0</td>\n",
              "      <td>60.00</td>\n",
              "      <td>0</td>\n",
              "      <td>Canceled</td>\n",
              "    </tr>\n",
              "    <tr>\n",
              "      <th>3</th>\n",
              "      <td>INN00004</td>\n",
              "      <td>2</td>\n",
              "      <td>0</td>\n",
              "      <td>0</td>\n",
              "      <td>2</td>\n",
              "      <td>Meal Plan 1</td>\n",
              "      <td>0</td>\n",
              "      <td>Room_Type 1</td>\n",
              "      <td>211</td>\n",
              "      <td>2018</td>\n",
              "      <td>5</td>\n",
              "      <td>20</td>\n",
              "      <td>Online</td>\n",
              "      <td>0</td>\n",
              "      <td>0</td>\n",
              "      <td>0</td>\n",
              "      <td>100.00</td>\n",
              "      <td>0</td>\n",
              "      <td>Canceled</td>\n",
              "    </tr>\n",
              "    <tr>\n",
              "      <th>4</th>\n",
              "      <td>INN00005</td>\n",
              "      <td>2</td>\n",
              "      <td>0</td>\n",
              "      <td>1</td>\n",
              "      <td>1</td>\n",
              "      <td>Not Selected</td>\n",
              "      <td>0</td>\n",
              "      <td>Room_Type 1</td>\n",
              "      <td>48</td>\n",
              "      <td>2018</td>\n",
              "      <td>4</td>\n",
              "      <td>11</td>\n",
              "      <td>Online</td>\n",
              "      <td>0</td>\n",
              "      <td>0</td>\n",
              "      <td>0</td>\n",
              "      <td>94.50</td>\n",
              "      <td>0</td>\n",
              "      <td>Canceled</td>\n",
              "    </tr>\n",
              "  </tbody>\n",
              "</table>\n",
              "</div>\n",
              "      <button class=\"colab-df-convert\" onclick=\"convertToInteractive('df-45da0789-26db-4d11-ad45-ea572c65b3c3')\"\n",
              "              title=\"Convert this dataframe to an interactive table.\"\n",
              "              style=\"display:none;\">\n",
              "        \n",
              "  <svg xmlns=\"http://www.w3.org/2000/svg\" height=\"24px\"viewBox=\"0 0 24 24\"\n",
              "       width=\"24px\">\n",
              "    <path d=\"M0 0h24v24H0V0z\" fill=\"none\"/>\n",
              "    <path d=\"M18.56 5.44l.94 2.06.94-2.06 2.06-.94-2.06-.94-.94-2.06-.94 2.06-2.06.94zm-11 1L8.5 8.5l.94-2.06 2.06-.94-2.06-.94L8.5 2.5l-.94 2.06-2.06.94zm10 10l.94 2.06.94-2.06 2.06-.94-2.06-.94-.94-2.06-.94 2.06-2.06.94z\"/><path d=\"M17.41 7.96l-1.37-1.37c-.4-.4-.92-.59-1.43-.59-.52 0-1.04.2-1.43.59L10.3 9.45l-7.72 7.72c-.78.78-.78 2.05 0 2.83L4 21.41c.39.39.9.59 1.41.59.51 0 1.02-.2 1.41-.59l7.78-7.78 2.81-2.81c.8-.78.8-2.07 0-2.86zM5.41 20L4 18.59l7.72-7.72 1.47 1.35L5.41 20z\"/>\n",
              "  </svg>\n",
              "      </button>\n",
              "      \n",
              "  <style>\n",
              "    .colab-df-container {\n",
              "      display:flex;\n",
              "      flex-wrap:wrap;\n",
              "      gap: 12px;\n",
              "    }\n",
              "\n",
              "    .colab-df-convert {\n",
              "      background-color: #E8F0FE;\n",
              "      border: none;\n",
              "      border-radius: 50%;\n",
              "      cursor: pointer;\n",
              "      display: none;\n",
              "      fill: #1967D2;\n",
              "      height: 32px;\n",
              "      padding: 0 0 0 0;\n",
              "      width: 32px;\n",
              "    }\n",
              "\n",
              "    .colab-df-convert:hover {\n",
              "      background-color: #E2EBFA;\n",
              "      box-shadow: 0px 1px 2px rgba(60, 64, 67, 0.3), 0px 1px 3px 1px rgba(60, 64, 67, 0.15);\n",
              "      fill: #174EA6;\n",
              "    }\n",
              "\n",
              "    [theme=dark] .colab-df-convert {\n",
              "      background-color: #3B4455;\n",
              "      fill: #D2E3FC;\n",
              "    }\n",
              "\n",
              "    [theme=dark] .colab-df-convert:hover {\n",
              "      background-color: #434B5C;\n",
              "      box-shadow: 0px 1px 3px 1px rgba(0, 0, 0, 0.15);\n",
              "      filter: drop-shadow(0px 1px 2px rgba(0, 0, 0, 0.3));\n",
              "      fill: #FFFFFF;\n",
              "    }\n",
              "  </style>\n",
              "\n",
              "      <script>\n",
              "        const buttonEl =\n",
              "          document.querySelector('#df-45da0789-26db-4d11-ad45-ea572c65b3c3 button.colab-df-convert');\n",
              "        buttonEl.style.display =\n",
              "          google.colab.kernel.accessAllowed ? 'block' : 'none';\n",
              "\n",
              "        async function convertToInteractive(key) {\n",
              "          const element = document.querySelector('#df-45da0789-26db-4d11-ad45-ea572c65b3c3');\n",
              "          const dataTable =\n",
              "            await google.colab.kernel.invokeFunction('convertToInteractive',\n",
              "                                                     [key], {});\n",
              "          if (!dataTable) return;\n",
              "\n",
              "          const docLinkHtml = 'Like what you see? Visit the ' +\n",
              "            '<a target=\"_blank\" href=https://colab.research.google.com/notebooks/data_table.ipynb>data table notebook</a>'\n",
              "            + ' to learn more about interactive tables.';\n",
              "          element.innerHTML = '';\n",
              "          dataTable['output_type'] = 'display_data';\n",
              "          await google.colab.output.renderOutput(dataTable, element);\n",
              "          const docLink = document.createElement('div');\n",
              "          docLink.innerHTML = docLinkHtml;\n",
              "          element.appendChild(docLink);\n",
              "        }\n",
              "      </script>\n",
              "    </div>\n",
              "  </div>\n",
              "  "
            ]
          },
          "metadata": {},
          "execution_count": 1
        }
      ],
      "source": [
        "# Thư viện sử dụng\n",
        "import pandas as pd\n",
        "import numpy as np\n",
        "import matplotlib.pyplot as plt\n",
        "import seaborn as sns\n",
        "import plotly.express as px\n",
        "from sklearn.metrics import accuracy_score, confusion_matrix, classification_report\n",
        "from yellowbrick.classifier import ConfusionMatrix\n",
        "from sklearn.tree import DecisionTreeClassifier\n",
        "from sklearn.metrics import r2_score\n",
        "from sklearn import metrics\n",
        "from sklearn.metrics import mean_absolute_error, mean_squared_error\n",
        "from sklearn.model_selection import GridSearchCV\n",
        "# Đọc dữ liệu\n",
        "df = pd.read_csv(\"Hotel Reservations.csv\")\n",
        "df.head()"
      ]
    },
    {
      "cell_type": "code",
      "execution_count": null,
      "metadata": {
        "id": "y18-zsQFcXnu"
      },
      "outputs": [],
      "source": [
        "# encode những cột categorical từ dạng chuỗi sang dạng số\n",
        "from sklearn.preprocessing import LabelEncoder\n",
        "\n",
        "label_encoder_type_of_meal_plan = LabelEncoder()\n",
        "label_encoder_room_type_reserved = LabelEncoder()\n",
        "label_encoder_market_segment_type = LabelEncoder()\n",
        "label_encoder_booking_status = LabelEncoder()\n",
        "\n",
        "df['type_of_meal_plan'] = label_encoder_type_of_meal_plan.fit_transform(df['type_of_meal_plan'])\n",
        "df['room_type_reserved'] = label_encoder_room_type_reserved.fit_transform(df['room_type_reserved'])\n",
        "df['market_segment_type'] = label_encoder_market_segment_type.fit_transform(df['market_segment_type'])\n",
        "df['booking_status'] = label_encoder_booking_status.fit_transform(df['booking_status']) # 'Canceled': 0, 'Not_Canceled': 1"
      ]
    },
    {
      "cell_type": "code",
      "execution_count": null,
      "metadata": {
        "id": "RUvPU1-Ge3DU"
      },
      "outputs": [],
      "source": [
        "# Chia tập dữ liệu\n",
        "X = df.drop(['booking_status','Booking_ID'], axis = 1)\n",
        "X = X.values\n",
        "y = df['booking_status']"
      ]
    },
    {
      "cell_type": "code",
      "execution_count": null,
      "metadata": {
        "colab": {
          "base_uri": "https://localhost:8080/"
        },
        "id": "UHdRMD_we-vB",
        "outputId": "c789c525-4661-4ce3-9bce-07bb04ddafbe"
      },
      "outputs": [
        {
          "output_type": "execute_result",
          "data": {
            "text/plain": [
              "1    24390\n",
              "0    11885\n",
              "Name: booking_status, dtype: int64"
            ]
          },
          "metadata": {},
          "execution_count": 4
        }
      ],
      "source": [
        "df['booking_status'].value_counts()"
      ]
    },
    {
      "cell_type": "markdown",
      "metadata": {
        "id": "see0-kgDf1rS"
      },
      "source": [
        "Vì dữ liệu bị lệch nên ta phải tiến hành cân bằng dữ liệu"
      ]
    },
    {
      "cell_type": "code",
      "execution_count": null,
      "metadata": {
        "colab": {
          "base_uri": "https://localhost:8080/"
        },
        "id": "cKBQTemEfOWS",
        "outputId": "de1097b8-6532-48c8-e872-d0675a86d40e"
      },
      "outputs": [
        {
          "output_type": "execute_result",
          "data": {
            "text/plain": [
              "1    24390\n",
              "0    24390\n",
              "Name: booking_status, dtype: int64"
            ]
          },
          "metadata": {},
          "execution_count": 5
        }
      ],
      "source": [
        "from imblearn.over_sampling import RandomOverSampler\n",
        "ros = RandomOverSampler(random_state=0)\n",
        "X, y = ros.fit_resample(X, y)\n",
        "y.value_counts()"
      ]
    },
    {
      "cell_type": "markdown",
      "metadata": {
        "id": "H_9j6ICefovC"
      },
      "source": [
        "Bây giờ dữ liệu đã được cân bằng, tiếp theo ta sẽ chuẩn hóa dữ liệu  \n",
        "Lý do ta cần over sampling class bị thiếu là bởi vì ta không muốn cho các mô hình học máy thiên vị về bên class có nhiều data point hơn, đồng thời cân bằng cho máy học để có thể dự đoán chính xác hơn cho cả 2 class.  \n",
        "\n",
        "`Lợi ích của việc xài over-sampling này là:` tăng performance cho máy học, bias correction, và đỡ tốn thời gian để thu thập thêm dữ liệu mới.  \n",
        "`Tác hại của việc xài over-sampling:` bị Overfiting (có thể data point mới bản gốc của nó), mất mát thông tin(loss of information - data point mới được sinh ra không giữ được những đặc trưng đặc biệt của nhóm ít data hơn)"
      ]
    },
    {
      "cell_type": "code",
      "execution_count": null,
      "metadata": {
        "id": "mPq1HHUKgGqb"
      },
      "outputs": [],
      "source": [
        "# Chuẩn hóa dữ liệu để đưa dữ liệu về cùng tỉ lệ, tránh phụ thuộc vào 1 đặc trưng nào đó \n",
        "from sklearn.preprocessing import StandardScaler\n",
        "scaler = StandardScaler()\n",
        "X_standard = scaler.fit_transform(X)"
      ]
    },
    {
      "cell_type": "code",
      "execution_count": null,
      "metadata": {
        "id": "ZAbFL3cTg8TA"
      },
      "outputs": [],
      "source": [
        "# Chia dữ liệu \n",
        "from sklearn.model_selection import train_test_split\n",
        "X_train,X_test, y_train, y_test = train_test_split(X_standard, y, test_size = 0.2, random_state = 0)"
      ]
    },
    {
      "cell_type": "markdown",
      "metadata": {
        "id": "u-vSPBC6ryKg"
      },
      "source": [
        "# **Xây dựng Mô hình:**"
      ]
    },
    {
      "cell_type": "markdown",
      "metadata": {
        "id": "kzRtDO1WriA0"
      },
      "source": [
        "## Mô hình 1: Logistic Regression"
      ]
    },
    {
      "cell_type": "code",
      "execution_count": null,
      "metadata": {
        "id": "xfKdYfB_rq42"
      },
      "outputs": [],
      "source": [
        "# Huấn luyện mô hình\n",
        "from sklearn.linear_model import LogisticRegression\n",
        "logistic = LogisticRegression(random_state = 1, max_iter=1000)\n",
        "logistic.fit(X_train, y_train)\n",
        "previsoes = logistic.predict(X_test)"
      ]
    },
    {
      "cell_type": "code",
      "execution_count": null,
      "metadata": {
        "colab": {
          "base_uri": "https://localhost:8080/"
        },
        "id": "S5UL3UfUpchh",
        "outputId": "27c08c3a-0313-4dba-c0ac-60633f204bef"
      },
      "outputs": [
        {
          "output_type": "stream",
          "name": "stdout",
          "text": [
            "Độ chính xác trên tập Train 0.7762658876588766\n",
            "Độ chính xác trên tập Test 0.7764452644526445\n"
          ]
        }
      ],
      "source": [
        "# Kiểm tra Overfitting\n",
        "print(\"Độ chính xác trên tập Train\",accuracy_score(logistic.predict(X_train), y_train))\n",
        "print(\"Độ chính xác trên tập Test\",accuracy_score(logistic.predict(X_test), y_test))"
      ]
    },
    {
      "cell_type": "code",
      "execution_count": null,
      "metadata": {
        "colab": {
          "base_uri": "https://localhost:8080/",
          "height": 361
        },
        "id": "xqvU3hSSrtn2",
        "outputId": "56e63134-f63c-4a2e-9a6a-258b30b959fd"
      },
      "outputs": [
        {
          "output_type": "stream",
          "name": "stdout",
          "text": [
            "Accuracy = 0.7764452644526445\n"
          ]
        },
        {
          "output_type": "display_data",
          "data": {
            "text/plain": [
              "<Figure size 576x396 with 1 Axes>"
            ],
            "image/png": "[encoded data removed]"
          },
          "metadata": {}
        }
      ],
      "source": [
        "# Đánh giá confusion matrix\n",
        "cm = ConfusionMatrix(logistic)\n",
        "cm.fit(X_train, y_train)\n",
        "\n",
        "print(\"Accuracy =\",cm.score(X_test, y_test))"
      ]
    },
    {
      "cell_type": "code",
      "execution_count": null,
      "metadata": {
        "colab": {
          "base_uri": "https://localhost:8080/"
        },
        "id": "G_rgtEvrrzXw",
        "outputId": "6dca1359-747c-404d-fd95-d14e8eb61efc"
      },
      "outputs": [
        {
          "output_type": "stream",
          "name": "stdout",
          "text": [
            "              precision    recall  f1-score   support\n",
            "\n",
            "           0       0.77      0.78      0.78      4895\n",
            "           1       0.78      0.77      0.77      4861\n",
            "\n",
            "    accuracy                           0.78      9756\n",
            "   macro avg       0.78      0.78      0.78      9756\n",
            "weighted avg       0.78      0.78      0.78      9756\n",
            "\n"
          ]
        }
      ],
      "source": [
        "print(classification_report(y_test, previsoes))"
      ]
    },
    {
      "cell_type": "code",
      "execution_count": null,
      "metadata": {
        "colab": {
          "base_uri": "https://localhost:8080/",
          "height": 361
        },
        "id": "yNY_MOfnrWrh",
        "outputId": "46ef56b3-13a9-4ec4-c1dc-9ae3bc34f692"
      },
      "outputs": [
        {
          "output_type": "display_data",
          "data": {
            "text/plain": [
              "<Figure size 576x396 with 1 Axes>"
            ],
            "image/png": "[encoded data removed]"
          },
          "metadata": {}
        }
      ],
      "source": [
        "#define metrics\n",
        "y_pred_proba = logistic.predict_proba(X_test)[::,1]\n",
        "fpr, tpr, _ = metrics.roc_curve(y_test,  y_pred_proba)\n",
        "auc = metrics.roc_auc_score(y_test, y_pred_proba)\n",
        "\n",
        "#create ROC curve\n",
        "plt.plot(fpr,tpr,label=\"AUC=\"+str(auc))\n",
        "plt.ylabel('True Positive Rate')\n",
        "plt.xlabel('False Positive Rate')\n",
        "plt.legend(loc=4)\n",
        "plt.show()"
      ]
    },
    {
      "cell_type": "markdown",
      "metadata": {
        "id": "RJSGYdOtsBwK"
      },
      "source": [
        "### **<u>Nhận xét</u>:**\n",
        "- Mô hình không bị overfitting\n",
        "- Độ chính xác của mô hình là 0.776 => Mô hình dự đoán khá tốt\n",
        "- Ta thấy chỉ số AUC (Are under curve) = 0.857 cho thấy model phân loại khá chính xác giữa 2 lớp với nhau"
      ]
    },
    {
      "cell_type": "markdown",
      "metadata": {
        "id": "U-3rfE3jsLrP"
      },
      "source": [
        "# Mô hình 2: Decision Tree"
      ]
    },
    {
      "cell_type": "code",
      "execution_count": null,
      "metadata": {
        "colab": {
          "base_uri": "https://localhost:8080/"
        },
        "id": "EE1ctXVptTZZ",
        "outputId": "46030793-624a-42f3-cbe9-0cee327ce476"
      },
      "outputs": [
        {
          "output_type": "stream",
          "name": "stdout",
          "text": [
            "Min Split:  3\n",
            "Max Nvl:  11\n",
            "Algorithm:  gini\n",
            "Score:  0.8646730745677818\n"
          ]
        }
      ],
      "source": [
        "min_split = np.array([2, 3, 4, 5, 6, 7])\n",
        "max_nvl = np.array([3, 4, 5, 6, 7, 9, 11])\n",
        "alg = ['entropy', 'gini']\n",
        "values_grid = {'min_samples_split': min_split, 'max_depth': max_nvl, 'criterion': alg}\n",
        "# Tìm kiếm siêu tham số cho mô hình\n",
        "model = DecisionTreeClassifier()\n",
        "gridDecisionTree = GridSearchCV(estimator = model, param_grid = values_grid, cv = 5)\n",
        "gridDecisionTree.fit(X_train, y_train)\n",
        "# Các siêu tham số tối ưu của mô hình\n",
        "print('Min Split: ', gridDecisionTree.best_estimator_.min_samples_split)\n",
        "print('Max Nvl: ', gridDecisionTree.best_estimator_.max_depth)\n",
        "print('Algorithm: ', gridDecisionTree.best_estimator_.criterion)\n",
        "print('Score: ', gridDecisionTree.best_score_)"
      ]
    },
    {
      "cell_type": "code",
      "execution_count": null,
      "metadata": {
        "id": "LMDlz3XzuItP"
      },
      "outputs": [],
      "source": [
        "# Huấn luyện và dự đoán\n",
        "decision_tree = DecisionTreeClassifier(criterion = 'gini', min_samples_split = 2, max_depth= 11, random_state=0)\n",
        "decision_tree.fit(X_train, y_train)\n",
        "previsoes = decision_tree.predict(X_test)"
      ]
    },
    {
      "cell_type": "code",
      "execution_count": null,
      "metadata": {
        "colab": {
          "base_uri": "https://localhost:8080/"
        },
        "id": "QSU4BpvRqelt",
        "outputId": "2dd3efbc-c0ee-4b15-b8ea-ada162bb952b"
      },
      "outputs": [
        {
          "output_type": "stream",
          "name": "stdout",
          "text": [
            "Độ chính xác trên tập Train 0.8814063140631406\n",
            "Độ chính xác trên tập Test 0.8682861828618286\n"
          ]
        }
      ],
      "source": [
        "# Kiểm tra Overfitting\n",
        "print(\"Độ chính xác trên tập Train\",accuracy_score(decision_tree.predict(X_train), y_train))\n",
        "print(\"Độ chính xác trên tập Test\",accuracy_score(decision_tree.predict(X_test), y_test))"
      ]
    },
    {
      "cell_type": "code",
      "execution_count": null,
      "metadata": {
        "colab": {
          "base_uri": "https://localhost:8080/",
          "height": 361
        },
        "id": "zoE3OuBPuUeP",
        "outputId": "e1ec4a73-1bef-4963-a53d-e36e7ddfc0b7"
      },
      "outputs": [
        {
          "output_type": "stream",
          "name": "stdout",
          "text": [
            "Accuracy = 0.8682861828618286\n"
          ]
        },
        {
          "output_type": "display_data",
          "data": {
            "text/plain": [
              "<Figure size 576x396 with 1 Axes>"
            ],
            "image/png": "[encoded data removed]"
          },
          "metadata": {}
        }
      ],
      "source": [
        "cm = ConfusionMatrix(decision_tree)\n",
        "cm.fit(X_train, y_train)\n",
        "print(\"Accuracy =\",cm.score(X_test, y_test))"
      ]
    },
    {
      "cell_type": "code",
      "execution_count": null,
      "metadata": {
        "colab": {
          "base_uri": "https://localhost:8080/"
        },
        "id": "CRYjXQGZuWOT",
        "outputId": "47fbbb99-0fd5-4b2b-9f61-c7112dc41050"
      },
      "outputs": [
        {
          "output_type": "stream",
          "name": "stdout",
          "text": [
            "              precision    recall  f1-score   support\n",
            "\n",
            "           0       0.85      0.89      0.87      4895\n",
            "           1       0.88      0.85      0.87      4861\n",
            "\n",
            "    accuracy                           0.87      9756\n",
            "   macro avg       0.87      0.87      0.87      9756\n",
            "weighted avg       0.87      0.87      0.87      9756\n",
            "\n"
          ]
        }
      ],
      "source": [
        "print(classification_report(y_test, previsoes))"
      ]
    },
    {
      "cell_type": "code",
      "execution_count": null,
      "metadata": {
        "colab": {
          "base_uri": "https://localhost:8080/",
          "height": 361
        },
        "id": "l9AsIKsVrWrm",
        "outputId": "6789a02d-1f08-40c8-df2e-e08e5f3a8da3"
      },
      "outputs": [
        {
          "output_type": "display_data",
          "data": {
            "text/plain": [
              "<Figure size 576x396 with 1 Axes>"
            ],
            "image/png": "[encoded data removed]"
          },
          "metadata": {}
        }
      ],
      "source": [
        "#define metrics\n",
        "y_pred_proba = decision_tree.predict_proba(X_test)[::,1]\n",
        "fpr, tpr, _ = metrics.roc_curve(y_test,  y_pred_proba)\n",
        "auc = metrics.roc_auc_score(y_test, y_pred_proba)\n",
        "\n",
        "#create ROC curve\n",
        "plt.plot(fpr,tpr,label=\"AUC=\"+str(auc))\n",
        "plt.ylabel('True Positive Rate')\n",
        "plt.xlabel('False Positive Rate')\n",
        "plt.legend(loc=4)\n",
        "plt.show()"
      ]
    },
    {
      "cell_type": "markdown",
      "metadata": {
        "id": "IeD4sCZKs6uO"
      },
      "source": [
        "### **<u>Nhận xét</u>:**\n",
        "- Mô hình không bị overfitting\n",
        "- Độ chính xác của mô hình là 0.868 => Mô hình dự đoán tốt\n",
        "- Ta nhận thấy AUC ở decision tree cho ra dự đoán chính xác tốt hơn ở 2 lớp, cụ thể là AUC = 0.94%"
      ]
    },
    {
      "cell_type": "markdown",
      "metadata": {
        "id": "z7NqDUxgsVaM"
      },
      "source": [
        "# Mô hình 3: Random Forest"
      ]
    },
    {
      "cell_type": "code",
      "execution_count": null,
      "metadata": {
        "colab": {
          "base_uri": "https://localhost:8080/"
        },
        "id": "1LHztEQBusG6",
        "outputId": "d0e3f9f5-7c14-42f8-a505-ebaa652ae46a"
      },
      "outputs": [
        {
          "output_type": "stream",
          "name": "stdout",
          "text": [
            "Algorithm:  gini\n",
            "Score:  0.8716686756344009\n",
            "Min Split:  4\n",
            "Max Nvl:  11\n"
          ]
        }
      ],
      "source": [
        "from sklearn.ensemble import RandomForestClassifier\n",
        "# Khởi tạo các giá trị siêu tham số\n",
        "n_estimators = np.array([100])\n",
        "alg = ['entropy', 'gini']\n",
        "min_split = np.array([2, 3, 4, 5, 6, 7])\n",
        "max_nvl = np.array([3, 4, 5, 6, 7, 9, 11])\n",
        "values_grid = {'n_estimators': n_estimators, 'min_samples_split': min_split, 'max_depth': max_nvl, 'criterion': alg}\n",
        "# Tìm siêu tham số tối ưu nhất cho mô hình\n",
        "model = RandomForestClassifier()\n",
        "gridRandomForest = GridSearchCV(estimator = model, param_grid = values_grid, cv = 5)\n",
        "gridRandomForest.fit(X_train, y_train)\n",
        "# Các siêu tham số tìm được\n",
        "print('Algorithm: ', gridRandomForest.best_estimator_.criterion)\n",
        "print('Score: ', gridRandomForest.best_score_)\n",
        "print('Min Split: ', gridRandomForest.best_estimator_.min_samples_split)\n",
        "print('Max Nvl: ', gridRandomForest.best_estimator_.max_depth)"
      ]
    },
    {
      "cell_type": "code",
      "execution_count": null,
      "metadata": {
        "id": "brK7naqquxl2"
      },
      "outputs": [],
      "source": [
        "random_forest = RandomForestClassifier(n_estimators = 100, min_samples_split = 2, max_depth= 11,  criterion = 'gini', random_state = 0)\n",
        "random_forest.fit(X_train, y_train)\n",
        "previsoes = random_forest.predict(X_test)"
      ]
    },
    {
      "cell_type": "code",
      "execution_count": null,
      "metadata": {
        "colab": {
          "base_uri": "https://localhost:8080/"
        },
        "id": "yJW6FHOzquzN",
        "outputId": "613ab4af-0eb7-46e5-debf-34884bc0b672"
      },
      "outputs": [
        {
          "output_type": "stream",
          "name": "stdout",
          "text": [
            "Độ chính xác trên tập Train 0.8807913079130791\n",
            "Độ chính xác trên tập Test 0.8763837638376384\n"
          ]
        }
      ],
      "source": [
        "# Kiểm tra Overfitting\n",
        "print(\"Độ chính xác trên tập Train\",accuracy_score(random_forest.predict(X_train), y_train))\n",
        "print(\"Độ chính xác trên tập Test\",accuracy_score(random_forest.predict(X_test), y_test))"
      ]
    },
    {
      "cell_type": "code",
      "execution_count": null,
      "metadata": {
        "colab": {
          "base_uri": "https://localhost:8080/",
          "height": 361
        },
        "id": "b9mwaP5Mu4A_",
        "outputId": "e3a299fd-3bbd-4e17-8505-af318f18a78c"
      },
      "outputs": [
        {
          "output_type": "stream",
          "name": "stdout",
          "text": [
            "Accuracy = 0.8763837638376384\n"
          ]
        },
        {
          "output_type": "display_data",
          "data": {
            "text/plain": [
              "<Figure size 576x396 with 1 Axes>"
            ],
            "image/png": "[encoded data removed]"
          },
          "metadata": {}
        }
      ],
      "source": [
        "cm = ConfusionMatrix(random_forest)\n",
        "cm.fit(X_train, y_train)\n",
        "print(\"Accuracy =\",cm.score(X_test, y_test))"
      ]
    },
    {
      "cell_type": "code",
      "execution_count": null,
      "metadata": {
        "colab": {
          "base_uri": "https://localhost:8080/"
        },
        "id": "KtT5jQaEu6cd",
        "outputId": "617504c2-ce17-4e2b-87cf-8d260a9bef0d"
      },
      "outputs": [
        {
          "output_type": "stream",
          "name": "stdout",
          "text": [
            "              precision    recall  f1-score   support\n",
            "\n",
            "           0       0.90      0.85      0.87      4895\n",
            "           1       0.85      0.91      0.88      4861\n",
            "\n",
            "    accuracy                           0.88      9756\n",
            "   macro avg       0.88      0.88      0.88      9756\n",
            "weighted avg       0.88      0.88      0.88      9756\n",
            "\n"
          ]
        }
      ],
      "source": [
        "print(classification_report(y_test, previsoes))"
      ]
    },
    {
      "cell_type": "code",
      "execution_count": null,
      "metadata": {
        "colab": {
          "base_uri": "https://localhost:8080/",
          "height": 361
        },
        "id": "C9e4_vLnrWrp",
        "outputId": "6ebf06f7-e5ae-4f62-8c30-f72c65210280"
      },
      "outputs": [
        {
          "output_type": "display_data",
          "data": {
            "text/plain": [
              "<Figure size 576x396 with 1 Axes>"
            ],
            "image/png": "[encoded data removed]"
          },
          "metadata": {}
        }
      ],
      "source": [
        "#define metrics\n",
        "y_pred_proba = random_forest.predict_proba(X_test)[::,1]\n",
        "fpr, tpr, _ = metrics.roc_curve(y_test,  y_pred_proba)\n",
        "auc = metrics.roc_auc_score(y_test, y_pred_proba)\n",
        "\n",
        "#create ROC curve\n",
        "plt.plot(fpr,tpr,label=\"AUC=\"+str(auc))\n",
        "plt.ylabel('True Positive Rate')\n",
        "plt.xlabel('False Positive Rate')\n",
        "plt.legend(loc=4)\n",
        "plt.show()"
      ]
    },
    {
      "cell_type": "markdown",
      "metadata": {
        "id": "KSDV4LD4s8X3"
      },
      "source": [
        "### **<u>Nhận xét</u>:**\n",
        "- Mô hình không bị overfitting\n",
        "- Độ chính xác của mô hình là 0.876 => Mô hình hoạt động tốt\n",
        "- AUC = 95.2%, là model có chỉ số cao nhất cho thấy khi model dự đoán là positive thì khả năng là true positive lên tận 95.2%, chỉ 4.8% còn lại là khả năng sẽ bị False positive khi mô hình dự đoán là positive"
      ]
    },
    {
      "cell_type": "markdown",
      "metadata": {
        "id": "IiCekHyGsjxs"
      },
      "source": [
        "# Mô hình 4: KNN"
      ]
    },
    {
      "cell_type": "code",
      "execution_count": null,
      "metadata": {
        "colab": {
          "base_uri": "https://localhost:8080/"
        },
        "id": "TVCTOuLJxnBx",
        "outputId": "b1e4677a-8909-406c-ced5-6ca2f02073ae"
      },
      "outputs": [
        {
          "output_type": "stream",
          "name": "stdout",
          "text": [
            "n_neighbors tốt nhất: {'n_neighbors': 1}\n"
          ]
        }
      ],
      "source": [
        "from sklearn.neighbors import KNeighborsClassifier\n",
        "knn = KNeighborsClassifier()\n",
        "\n",
        "k_list = list(range(1,10))\n",
        "k_values = dict(n_neighbors = k_list)\n",
        "grid = GridSearchCV(knn, k_values, cv = 2, scoring = 'accuracy', n_jobs = -1)\n",
        "grid.fit(X_train, y_train)\n",
        "\n",
        "print(\"n_neighbors tốt nhất:\",grid.best_params_)"
      ]
    },
    {
      "cell_type": "code",
      "execution_count": null,
      "metadata": {
        "id": "eYmf5hxmyAYZ"
      },
      "outputs": [],
      "source": [
        "knn = KNeighborsClassifier(n_neighbors = 1, metric = 'minkowski', p = 2)\n",
        "knn.fit(X_train, y_train)\n",
        "previsoes = knn.predict(X_test)"
      ]
    },
    {
      "cell_type": "code",
      "execution_count": null,
      "metadata": {
        "colab": {
          "base_uri": "https://localhost:8080/"
        },
        "id": "dUSm4nZ0qv7G",
        "outputId": "b0361264-0735-4305-e612-298f316ba58f"
      },
      "outputs": [
        {
          "output_type": "stream",
          "name": "stdout",
          "text": [
            "Độ chính xác trên tập Train 0.997360598605986\n",
            "Độ chính xác trên tập Test 0.9074415744157441\n"
          ]
        }
      ],
      "source": [
        "# Kiểm tra Overfitting\n",
        "print(\"Độ chính xác trên tập Train\",accuracy_score(knn.predict(X_train), y_train))\n",
        "print(\"Độ chính xác trên tập Test\",accuracy_score(knn.predict(X_test), y_test))"
      ]
    },
    {
      "cell_type": "code",
      "execution_count": null,
      "metadata": {
        "colab": {
          "base_uri": "https://localhost:8080/",
          "height": 361
        },
        "id": "3nby-m2FBSsa",
        "outputId": "c2db9008-0444-43cb-c692-11c7dbffc60c"
      },
      "outputs": [
        {
          "output_type": "stream",
          "name": "stdout",
          "text": [
            "Accuracy = 0.9074415744157441\n"
          ]
        },
        {
          "output_type": "display_data",
          "data": {
            "text/plain": [
              "<Figure size 576x396 with 1 Axes>"
            ],
            "image/png": "[encoded data removed]"
          },
          "metadata": {}
        }
      ],
      "source": [
        "cm = ConfusionMatrix(knn)\n",
        "cm.fit(X_train, y_train)\n",
        "print(\"Accuracy =\",cm.score(X_test, y_test))"
      ]
    },
    {
      "cell_type": "code",
      "execution_count": null,
      "metadata": {
        "colab": {
          "base_uri": "https://localhost:8080/"
        },
        "id": "ckiYhEU1vB3i",
        "outputId": "66f94eba-19b7-468e-cc4c-e20a6d44dd25"
      },
      "outputs": [
        {
          "output_type": "stream",
          "name": "stdout",
          "text": [
            "              precision    recall  f1-score   support\n",
            "\n",
            "           0       0.88      0.94      0.91      4895\n",
            "           1       0.94      0.87      0.90      4861\n",
            "\n",
            "    accuracy                           0.91      9756\n",
            "   macro avg       0.91      0.91      0.91      9756\n",
            "weighted avg       0.91      0.91      0.91      9756\n",
            "\n"
          ]
        }
      ],
      "source": [
        "print(classification_report(y_test, previsoes))"
      ]
    },
    {
      "cell_type": "code",
      "execution_count": null,
      "metadata": {
        "colab": {
          "base_uri": "https://localhost:8080/",
          "height": 361
        },
        "id": "6DlumHPyrWrt",
        "outputId": "35ae9496-db09-478c-e4a6-4f2330aca3c2"
      },
      "outputs": [
        {
          "output_type": "display_data",
          "data": {
            "text/plain": [
              "<Figure size 576x396 with 1 Axes>"
            ],
            "image/png": "[encoded data removed]"
          },
          "metadata": {}
        }
      ],
      "source": [
        "#define metrics\n",
        "y_pred_proba = knn.predict_proba(X_test)[::,1]\n",
        "fpr, tpr, _ = metrics.roc_curve(y_test,  y_pred_proba)\n",
        "auc = metrics.roc_auc_score(y_test, y_pred_proba)\n",
        "\n",
        "#create ROC curve\n",
        "plt.plot(fpr,tpr,label=\"AUC=\"+str(auc))\n",
        "plt.ylabel('True Positive Rate')\n",
        "plt.xlabel('False Positive Rate')\n",
        "plt.legend(loc=4)\n",
        "plt.show()"
      ]
    },
    {
      "cell_type": "markdown",
      "metadata": {
        "id": "XEEWpM-Ms9J3"
      },
      "source": [
        "### **<u>Nhận xét</u>:**\n",
        "- Mô hình không bị overfitting\n",
        "- Độ chính xác của mô hình là 0.907 => Mô hình dự đoán rất tốt\n",
        "- Với AUC=98% cũng khá cao cho mô hình cơ bản như KNN"
      ]
    },
    {
      "cell_type": "markdown",
      "metadata": {
        "id": "IUxz19cJEJlJ"
      },
      "source": [
        "# Mô hình 5: Support Vector Machines (SVMs):"
      ]
    },
    {
      "cell_type": "code",
      "execution_count": null,
      "metadata": {
        "id": "NxJGruk-ER2V"
      },
      "outputs": [],
      "source": [
        "from sklearn import svm\n",
        "\n",
        "SVM = svm.SVC(kernel='poly', C=1.0, probability=True)\n",
        "SVM.fit(X_train, y_train)\n",
        "previsoes = SVM.predict(X_test)"
      ]
    },
    {
      "cell_type": "code",
      "execution_count": null,
      "metadata": {
        "colab": {
          "base_uri": "https://localhost:8080/"
        },
        "id": "xfJORP94qxTb",
        "outputId": "fe22f70b-b219-42c8-89db-900dbbf8685c"
      },
      "outputs": [
        {
          "output_type": "stream",
          "name": "stdout",
          "text": [
            "Độ chính xác trên tập Train 0.8194188191881919\n",
            "Độ chính xác trên tập Test 0.8207257072570726\n"
          ]
        }
      ],
      "source": [
        "# Kiểm tra Overfitting\n",
        "print(\"Độ chính xác trên tập Train\",accuracy_score(SVM.predict(X_train), y_train))\n",
        "print(\"Độ chính xác trên tập Test\",accuracy_score(SVM.predict(X_test), y_test))"
      ]
    },
    {
      "cell_type": "code",
      "execution_count": null,
      "metadata": {
        "colab": {
          "base_uri": "https://localhost:8080/",
          "height": 361
        },
        "id": "ffcr_25tExak",
        "outputId": "1626d8f1-62a0-4088-f053-077bbc6cd9eb"
      },
      "outputs": [
        {
          "output_type": "stream",
          "name": "stdout",
          "text": [
            "Accuracy = 0.8207257072570726\n"
          ]
        },
        {
          "output_type": "display_data",
          "data": {
            "text/plain": [
              "<Figure size 576x396 with 1 Axes>"
            ],
            "image/png": "[encoded data removed]"
          },
          "metadata": {}
        }
      ],
      "source": [
        "cm = ConfusionMatrix(SVM)\n",
        "cm.fit(X_train, y_train)\n",
        "print(\"Accuracy =\",cm.score(X_test, y_test))"
      ]
    },
    {
      "cell_type": "code",
      "execution_count": null,
      "metadata": {
        "colab": {
          "base_uri": "https://localhost:8080/"
        },
        "id": "QLAsk2_dE3j2",
        "outputId": "b12c3f53-e826-4d98-bc72-a3f702665cb1"
      },
      "outputs": [
        {
          "output_type": "stream",
          "name": "stdout",
          "text": [
            "              precision    recall  f1-score   support\n",
            "\n",
            "           0       0.81      0.84      0.82      4895\n",
            "           1       0.83      0.80      0.82      4861\n",
            "\n",
            "    accuracy                           0.82      9756\n",
            "   macro avg       0.82      0.82      0.82      9756\n",
            "weighted avg       0.82      0.82      0.82      9756\n",
            "\n"
          ]
        }
      ],
      "source": [
        "print(classification_report(y_test, previsoes))"
      ]
    },
    {
      "cell_type": "code",
      "execution_count": null,
      "metadata": {
        "colab": {
          "base_uri": "https://localhost:8080/",
          "height": 361
        },
        "id": "11GtBCu6rWrw",
        "outputId": "923c3dec-3ef5-4de8-d75c-6bd346dc9b0b"
      },
      "outputs": [
        {
          "output_type": "display_data",
          "data": {
            "text/plain": [
              "<Figure size 576x396 with 1 Axes>"
            ],
            "image/png": "[encoded data removed]"
          },
          "metadata": {}
        }
      ],
      "source": [
        "#define metrics\n",
        "y_pred_proba = SVM.predict_proba(X_test)[::,1]\n",
        "fpr, tpr, _ = metrics.roc_curve(y_test,  y_pred_proba)\n",
        "auc = metrics.roc_auc_score(y_test, y_pred_proba)\n",
        "\n",
        "#create ROC curve\n",
        "plt.plot(fpr,tpr,label=\"AUC=\"+str(auc))\n",
        "plt.ylabel('True Positive Rate')\n",
        "plt.xlabel('False Positive Rate')\n",
        "plt.legend(loc=4)\n",
        "plt.show()"
      ]
    },
    {
      "cell_type": "markdown",
      "metadata": {
        "id": "zw5h5M-Bsoeg"
      },
      "source": [
        "### **<u>Nhận xét</u>:**\n",
        "- Mô hình không bị overfitting\n",
        "- Độ chính xác của mô hình là 0.820 => Mô hình dự đoán tốt\n",
        "- AUC=89.7%, ta thấy thấp hơn so với 1 số mô hình trên."
      ]
    },
    {
      "cell_type": "markdown",
      "metadata": {
        "id": "G4pCTJWEsnaO"
      },
      "source": [
        "# Mô hình 6: Naive Bayes"
      ]
    },
    {
      "cell_type": "code",
      "execution_count": null,
      "metadata": {
        "id": "YQxwrpCByeme"
      },
      "outputs": [],
      "source": [
        "from sklearn.naive_bayes import GaussianNB\n",
        "naive_bayes = GaussianNB()\n",
        "naive_bayes.fit(X_train, y_train)\n",
        "previsoes = naive_bayes.predict(X_test)"
      ]
    },
    {
      "cell_type": "code",
      "execution_count": null,
      "metadata": {
        "colab": {
          "base_uri": "https://localhost:8080/"
        },
        "id": "c327SvPfqyTd",
        "outputId": "f05ef193-40b0-4195-f1ab-50e1e473bb41"
      },
      "outputs": [
        {
          "output_type": "stream",
          "name": "stdout",
          "text": [
            "Độ chính xác trên tập Train 0.5670612956129562\n",
            "Độ chính xác trên tập Test 0.5712382123821238\n"
          ]
        }
      ],
      "source": [
        "# Kiểm tra Overfitting\n",
        "print(\"Độ chính xác trên tập Train\",accuracy_score(naive_bayes.predict(X_train), y_train))\n",
        "print(\"Độ chính xác trên tập Test\",accuracy_score(naive_bayes.predict(X_test), y_test))"
      ]
    },
    {
      "cell_type": "code",
      "execution_count": null,
      "metadata": {
        "colab": {
          "base_uri": "https://localhost:8080/",
          "height": 361
        },
        "id": "FjaOCDC1yf4C",
        "outputId": "5a0c69fe-18c6-4823-f7bb-3122881fe4eb"
      },
      "outputs": [
        {
          "output_type": "stream",
          "name": "stdout",
          "text": [
            "Accuracy = 0.5712382123821238\n"
          ]
        },
        {
          "output_type": "display_data",
          "data": {
            "text/plain": [
              "<Figure size 576x396 with 1 Axes>"
            ],
            "image/png": "[encoded data removed]"
          },
          "metadata": {}
        }
      ],
      "source": [
        "cm = ConfusionMatrix(naive_bayes)\n",
        "cm.fit(X_train, y_train)\n",
        "print(\"Accuracy =\",cm.score(X_test, y_test))"
      ]
    },
    {
      "cell_type": "code",
      "execution_count": null,
      "metadata": {
        "colab": {
          "base_uri": "https://localhost:8080/"
        },
        "id": "su62_CcRvC80",
        "outputId": "72fa04e9-e4c3-4c34-e098-9ff238d0cf5e"
      },
      "outputs": [
        {
          "output_type": "stream",
          "name": "stdout",
          "text": [
            "              precision    recall  f1-score   support\n",
            "\n",
            "           0       0.54      0.98      0.70      4895\n",
            "           1       0.89      0.16      0.27      4861\n",
            "\n",
            "    accuracy                           0.57      9756\n",
            "   macro avg       0.72      0.57      0.48      9756\n",
            "weighted avg       0.71      0.57      0.48      9756\n",
            "\n"
          ]
        }
      ],
      "source": [
        "print(classification_report(y_test, previsoes))"
      ]
    },
    {
      "cell_type": "code",
      "execution_count": null,
      "metadata": {
        "colab": {
          "base_uri": "https://localhost:8080/",
          "height": 361
        },
        "id": "dQMAUrJkrWry",
        "outputId": "4fea5ac2-3205-4efa-9f3a-2793de21ec9d"
      },
      "outputs": [
        {
          "output_type": "display_data",
          "data": {
            "text/plain": [
              "<Figure size 576x396 with 1 Axes>"
            ],
            "image/png": "[encoded data removed]"
          },
          "metadata": {}
        }
      ],
      "source": [
        "#define metrics\n",
        "y_pred_proba = naive_bayes.predict_proba(X_test)[::,1]\n",
        "fpr, tpr, _ = metrics.roc_curve(y_test,  y_pred_proba)\n",
        "auc = metrics.roc_auc_score(y_test, y_pred_proba)\n",
        "\n",
        "#create ROC curve\n",
        "plt.plot(fpr,tpr,label=\"AUC=\"+str(auc))\n",
        "plt.ylabel('True Positive Rate')\n",
        "plt.xlabel('False Positive Rate')\n",
        "plt.legend(loc=4)\n",
        "plt.show()"
      ]
    },
    {
      "cell_type": "markdown",
      "metadata": {
        "id": "6cc7yqJds_iS"
      },
      "source": [
        "### **<u>Nhận xét</u>:**\n",
        "- Mô hình không bị overfitting\n",
        "- Độ chính xác của mô hình là 0.571 => Mô hình dự đoán không tốt\n",
        "- Ở model này AUC=0.812, thấp nhất trong số các model trên"
      ]
    },
    {
      "cell_type": "markdown",
      "metadata": {
        "id": "571XUtuWswq_"
      },
      "source": [
        "# Mô hình 7: Neural Network"
      ]
    },
    {
      "cell_type": "code",
      "execution_count": null,
      "metadata": {
        "id": "FuMhuvABFiXs",
        "scrolled": false
      },
      "outputs": [],
      "source": [
        "from keras.utils import np_utils\n",
        "y_convert = np_utils.to_categorical(y)\n",
        "X_train, X_test, y_train, y_test = train_test_split(X_standard, y_convert, test_size = 0.3, random_state = 0)"
      ]
    },
    {
      "cell_type": "code",
      "execution_count": null,
      "metadata": {
        "colab": {
          "base_uri": "https://localhost:8080/"
        },
        "id": "m0Dc9EPdzq_c",
        "outputId": "56b91706-b421-42d2-d8e1-03a965af0c2e"
      },
      "outputs": [
        {
          "output_type": "stream",
          "name": "stdout",
          "text": [
            "Epoch 1/100\n",
            "86/86 [==============================] - 2s 12ms/step - loss: 0.5063 - acc: 0.7551 - val_loss: 0.4450 - val_acc: 0.7908\n",
            "Epoch 2/100\n",
            "86/86 [==============================] - 1s 10ms/step - loss: 0.4335 - acc: 0.7962 - val_loss: 0.4291 - val_acc: 0.8010\n",
            "Epoch 3/100\n",
            "86/86 [==============================] - 1s 8ms/step - loss: 0.4231 - acc: 0.8022 - val_loss: 0.4175 - val_acc: 0.8072\n",
            "Epoch 4/100\n",
            "86/86 [==============================] - 1s 7ms/step - loss: 0.4112 - acc: 0.8115 - val_loss: 0.4083 - val_acc: 0.8084\n",
            "Epoch 5/100\n",
            "86/86 [==============================] - 1s 8ms/step - loss: 0.4021 - acc: 0.8153 - val_loss: 0.3969 - val_acc: 0.8169\n",
            "Epoch 6/100\n",
            "86/86 [==============================] - 1s 7ms/step - loss: 0.3959 - acc: 0.8162 - val_loss: 0.3916 - val_acc: 0.8193\n",
            "Epoch 7/100\n",
            "86/86 [==============================] - 1s 8ms/step - loss: 0.3906 - acc: 0.8206 - val_loss: 0.3842 - val_acc: 0.8207\n",
            "Epoch 8/100\n",
            "86/86 [==============================] - 1s 8ms/step - loss: 0.3847 - acc: 0.8237 - val_loss: 0.3784 - val_acc: 0.8268\n",
            "Epoch 9/100\n",
            "86/86 [==============================] - 1s 8ms/step - loss: 0.3807 - acc: 0.8266 - val_loss: 0.3734 - val_acc: 0.8317\n",
            "Epoch 10/100\n",
            "86/86 [==============================] - 1s 8ms/step - loss: 0.3770 - acc: 0.8274 - val_loss: 0.3739 - val_acc: 0.8279\n",
            "Epoch 11/100\n",
            "86/86 [==============================] - 1s 7ms/step - loss: 0.3725 - acc: 0.8308 - val_loss: 0.3695 - val_acc: 0.8292\n",
            "Epoch 12/100\n",
            "86/86 [==============================] - 1s 7ms/step - loss: 0.3705 - acc: 0.8311 - val_loss: 0.3675 - val_acc: 0.8353\n",
            "Epoch 13/100\n",
            "86/86 [==============================] - 1s 7ms/step - loss: 0.3656 - acc: 0.8338 - val_loss: 0.3609 - val_acc: 0.8363\n",
            "Epoch 14/100\n",
            "86/86 [==============================] - 1s 7ms/step - loss: 0.3615 - acc: 0.8369 - val_loss: 0.3547 - val_acc: 0.8421\n",
            "Epoch 15/100\n",
            "86/86 [==============================] - 1s 8ms/step - loss: 0.3603 - acc: 0.8360 - val_loss: 0.3538 - val_acc: 0.8424\n",
            "Epoch 16/100\n",
            "86/86 [==============================] - 1s 8ms/step - loss: 0.3578 - acc: 0.8370 - val_loss: 0.3529 - val_acc: 0.8420\n",
            "Epoch 17/100\n",
            "86/86 [==============================] - 1s 7ms/step - loss: 0.3543 - acc: 0.8394 - val_loss: 0.3488 - val_acc: 0.8460\n",
            "Epoch 18/100\n",
            "86/86 [==============================] - 1s 6ms/step - loss: 0.3514 - acc: 0.8414 - val_loss: 0.3461 - val_acc: 0.8518\n",
            "Epoch 19/100\n",
            "86/86 [==============================] - 1s 8ms/step - loss: 0.3502 - acc: 0.8414 - val_loss: 0.3466 - val_acc: 0.8478\n",
            "Epoch 20/100\n",
            "86/86 [==============================] - 1s 10ms/step - loss: 0.3489 - acc: 0.8408 - val_loss: 0.3422 - val_acc: 0.8499\n",
            "Epoch 21/100\n",
            "86/86 [==============================] - 1s 10ms/step - loss: 0.3452 - acc: 0.8443 - val_loss: 0.3401 - val_acc: 0.8540\n",
            "Epoch 22/100\n",
            "86/86 [==============================] - 1s 7ms/step - loss: 0.3443 - acc: 0.8449 - val_loss: 0.3429 - val_acc: 0.8478\n",
            "Epoch 23/100\n",
            "86/86 [==============================] - 1s 6ms/step - loss: 0.3415 - acc: 0.8449 - val_loss: 0.3412 - val_acc: 0.8491\n",
            "Epoch 24/100\n",
            "86/86 [==============================] - 1s 8ms/step - loss: 0.3411 - acc: 0.8472 - val_loss: 0.3376 - val_acc: 0.8498\n",
            "Epoch 25/100\n",
            "86/86 [==============================] - 1s 8ms/step - loss: 0.3389 - acc: 0.8474 - val_loss: 0.3335 - val_acc: 0.8529\n",
            "Epoch 26/100\n",
            "86/86 [==============================] - 1s 8ms/step - loss: 0.3380 - acc: 0.8476 - val_loss: 0.3336 - val_acc: 0.8525\n",
            "Epoch 27/100\n",
            "86/86 [==============================] - 1s 7ms/step - loss: 0.3358 - acc: 0.8486 - val_loss: 0.3329 - val_acc: 0.8526\n",
            "Epoch 28/100\n",
            "86/86 [==============================] - 1s 7ms/step - loss: 0.3331 - acc: 0.8498 - val_loss: 0.3289 - val_acc: 0.8548\n",
            "Epoch 29/100\n",
            "86/86 [==============================] - 1s 6ms/step - loss: 0.3315 - acc: 0.8518 - val_loss: 0.3307 - val_acc: 0.8517\n",
            "Epoch 30/100\n",
            "86/86 [==============================] - 1s 6ms/step - loss: 0.3312 - acc: 0.8513 - val_loss: 0.3258 - val_acc: 0.8564\n",
            "Epoch 31/100\n",
            "86/86 [==============================] - 1s 6ms/step - loss: 0.3295 - acc: 0.8534 - val_loss: 0.3251 - val_acc: 0.8586\n",
            "Epoch 32/100\n",
            "86/86 [==============================] - 1s 7ms/step - loss: 0.3271 - acc: 0.8510 - val_loss: 0.3244 - val_acc: 0.8579\n",
            "Epoch 33/100\n",
            "86/86 [==============================] - 1s 7ms/step - loss: 0.3266 - acc: 0.8527 - val_loss: 0.3265 - val_acc: 0.8544\n",
            "Epoch 34/100\n",
            "86/86 [==============================] - 1s 8ms/step - loss: 0.3237 - acc: 0.8544 - val_loss: 0.3230 - val_acc: 0.8567\n",
            "Epoch 35/100\n",
            "86/86 [==============================] - 1s 8ms/step - loss: 0.3234 - acc: 0.8554 - val_loss: 0.3226 - val_acc: 0.8605\n",
            "Epoch 36/100\n",
            "86/86 [==============================] - 1s 6ms/step - loss: 0.3232 - acc: 0.8546 - val_loss: 0.3220 - val_acc: 0.8581\n",
            "Epoch 37/100\n",
            "86/86 [==============================] - 1s 6ms/step - loss: 0.3222 - acc: 0.8554 - val_loss: 0.3199 - val_acc: 0.8592\n",
            "Epoch 38/100\n",
            "86/86 [==============================] - 1s 9ms/step - loss: 0.3212 - acc: 0.8567 - val_loss: 0.3178 - val_acc: 0.8601\n",
            "Epoch 39/100\n",
            "86/86 [==============================] - 1s 9ms/step - loss: 0.3183 - acc: 0.8585 - val_loss: 0.3165 - val_acc: 0.8615\n",
            "Epoch 40/100\n",
            "86/86 [==============================] - 1s 8ms/step - loss: 0.3164 - acc: 0.8579 - val_loss: 0.3145 - val_acc: 0.8611\n",
            "Epoch 41/100\n",
            "86/86 [==============================] - 1s 6ms/step - loss: 0.3165 - acc: 0.8581 - val_loss: 0.3162 - val_acc: 0.8627\n",
            "Epoch 42/100\n",
            "86/86 [==============================] - 1s 7ms/step - loss: 0.3147 - acc: 0.8592 - val_loss: 0.3184 - val_acc: 0.8603\n",
            "Epoch 43/100\n",
            "86/86 [==============================] - 1s 8ms/step - loss: 0.3137 - acc: 0.8583 - val_loss: 0.3140 - val_acc: 0.8607\n",
            "Epoch 44/100\n",
            "86/86 [==============================] - 1s 6ms/step - loss: 0.3126 - acc: 0.8611 - val_loss: 0.3137 - val_acc: 0.8617\n",
            "Epoch 45/100\n",
            "86/86 [==============================] - 1s 7ms/step - loss: 0.3126 - acc: 0.8607 - val_loss: 0.3108 - val_acc: 0.8605\n",
            "Epoch 46/100\n",
            "86/86 [==============================] - 1s 6ms/step - loss: 0.3120 - acc: 0.8622 - val_loss: 0.3116 - val_acc: 0.8622\n",
            "Epoch 47/100\n",
            "86/86 [==============================] - 1s 7ms/step - loss: 0.3080 - acc: 0.8636 - val_loss: 0.3101 - val_acc: 0.8614\n",
            "Epoch 48/100\n",
            "86/86 [==============================] - 1s 6ms/step - loss: 0.3112 - acc: 0.8626 - val_loss: 0.3110 - val_acc: 0.8615\n",
            "Epoch 49/100\n",
            "86/86 [==============================] - 1s 6ms/step - loss: 0.3089 - acc: 0.8611 - val_loss: 0.3079 - val_acc: 0.8629\n",
            "Epoch 50/100\n",
            "86/86 [==============================] - 1s 8ms/step - loss: 0.3074 - acc: 0.8630 - val_loss: 0.3092 - val_acc: 0.8618\n",
            "Epoch 51/100\n",
            "86/86 [==============================] - 1s 7ms/step - loss: 0.3049 - acc: 0.8631 - val_loss: 0.3046 - val_acc: 0.8651\n",
            "Epoch 52/100\n",
            "86/86 [==============================] - 1s 7ms/step - loss: 0.3085 - acc: 0.8616 - val_loss: 0.3066 - val_acc: 0.8635\n",
            "Epoch 53/100\n",
            "86/86 [==============================] - 1s 8ms/step - loss: 0.3057 - acc: 0.8634 - val_loss: 0.3073 - val_acc: 0.8654\n",
            "Epoch 54/100\n",
            "86/86 [==============================] - 1s 6ms/step - loss: 0.3043 - acc: 0.8644 - val_loss: 0.3046 - val_acc: 0.8674\n",
            "Epoch 55/100\n",
            "86/86 [==============================] - 1s 8ms/step - loss: 0.3022 - acc: 0.8653 - val_loss: 0.3052 - val_acc: 0.8650\n",
            "Epoch 56/100\n",
            "86/86 [==============================] - 1s 6ms/step - loss: 0.3035 - acc: 0.8651 - val_loss: 0.3049 - val_acc: 0.8642\n",
            "Epoch 57/100\n",
            "86/86 [==============================] - 1s 9ms/step - loss: 0.3025 - acc: 0.8650 - val_loss: 0.3035 - val_acc: 0.8659\n",
            "Epoch 58/100\n",
            "86/86 [==============================] - 1s 11ms/step - loss: 0.3004 - acc: 0.8648 - val_loss: 0.3024 - val_acc: 0.8669\n",
            "Epoch 59/100\n",
            "86/86 [==============================] - 1s 8ms/step - loss: 0.2993 - acc: 0.8673 - val_loss: 0.3012 - val_acc: 0.8687\n",
            "Epoch 60/100\n",
            "86/86 [==============================] - 1s 7ms/step - loss: 0.2981 - acc: 0.8687 - val_loss: 0.3009 - val_acc: 0.8660\n",
            "Epoch 61/100\n",
            "86/86 [==============================] - 1s 7ms/step - loss: 0.3000 - acc: 0.8671 - val_loss: 0.3026 - val_acc: 0.8671\n",
            "Epoch 62/100\n",
            "86/86 [==============================] - 1s 6ms/step - loss: 0.2965 - acc: 0.8673 - val_loss: 0.2993 - val_acc: 0.8696\n",
            "Epoch 63/100\n",
            "86/86 [==============================] - 1s 8ms/step - loss: 0.2970 - acc: 0.8672 - val_loss: 0.3001 - val_acc: 0.8691\n",
            "Epoch 64/100\n",
            "86/86 [==============================] - 1s 7ms/step - loss: 0.2961 - acc: 0.8679 - val_loss: 0.2975 - val_acc: 0.8695\n",
            "Epoch 65/100\n",
            "86/86 [==============================] - 1s 6ms/step - loss: 0.2967 - acc: 0.8683 - val_loss: 0.2989 - val_acc: 0.8687\n",
            "Epoch 66/100\n",
            "86/86 [==============================] - 1s 7ms/step - loss: 0.2944 - acc: 0.8682 - val_loss: 0.2977 - val_acc: 0.8683\n",
            "Epoch 67/100\n",
            "86/86 [==============================] - 1s 6ms/step - loss: 0.2961 - acc: 0.8670 - val_loss: 0.2998 - val_acc: 0.8660\n",
            "Epoch 68/100\n",
            "86/86 [==============================] - 1s 8ms/step - loss: 0.2946 - acc: 0.8692 - val_loss: 0.2970 - val_acc: 0.8698\n",
            "Epoch 69/100\n",
            "86/86 [==============================] - 1s 6ms/step - loss: 0.2939 - acc: 0.8678 - val_loss: 0.2970 - val_acc: 0.8683\n",
            "Epoch 70/100\n",
            "86/86 [==============================] - 1s 7ms/step - loss: 0.2918 - acc: 0.8706 - val_loss: 0.2993 - val_acc: 0.8686\n",
            "Epoch 71/100\n",
            "86/86 [==============================] - 1s 7ms/step - loss: 0.2920 - acc: 0.8716 - val_loss: 0.2942 - val_acc: 0.8709\n",
            "Epoch 72/100\n",
            "86/86 [==============================] - 1s 6ms/step - loss: 0.2906 - acc: 0.8706 - val_loss: 0.2936 - val_acc: 0.8708\n",
            "Epoch 73/100\n",
            "86/86 [==============================] - 1s 7ms/step - loss: 0.2901 - acc: 0.8700 - val_loss: 0.2925 - val_acc: 0.8714\n",
            "Epoch 74/100\n",
            "86/86 [==============================] - 1s 8ms/step - loss: 0.2906 - acc: 0.8708 - val_loss: 0.2957 - val_acc: 0.8709\n",
            "Epoch 75/100\n",
            "86/86 [==============================] - 1s 7ms/step - loss: 0.2905 - acc: 0.8697 - val_loss: 0.2914 - val_acc: 0.8721\n",
            "Epoch 76/100\n",
            "86/86 [==============================] - 1s 10ms/step - loss: 0.2896 - acc: 0.8696 - val_loss: 0.2932 - val_acc: 0.8686\n",
            "Epoch 77/100\n",
            "86/86 [==============================] - 1s 10ms/step - loss: 0.2871 - acc: 0.8728 - val_loss: 0.2934 - val_acc: 0.8717\n",
            "Epoch 78/100\n",
            "86/86 [==============================] - 1s 10ms/step - loss: 0.2882 - acc: 0.8716 - val_loss: 0.2956 - val_acc: 0.8689\n",
            "Epoch 79/100\n",
            "86/86 [==============================] - 1s 7ms/step - loss: 0.2867 - acc: 0.8728 - val_loss: 0.2921 - val_acc: 0.8700\n",
            "Epoch 80/100\n",
            "86/86 [==============================] - 1s 8ms/step - loss: 0.2873 - acc: 0.8728 - val_loss: 0.2910 - val_acc: 0.8723\n",
            "Epoch 81/100\n",
            "86/86 [==============================] - 1s 8ms/step - loss: 0.2854 - acc: 0.8731 - val_loss: 0.2921 - val_acc: 0.8706\n",
            "Epoch 82/100\n",
            "86/86 [==============================] - 1s 7ms/step - loss: 0.2864 - acc: 0.8720 - val_loss: 0.2904 - val_acc: 0.8739\n",
            "Epoch 83/100\n",
            "86/86 [==============================] - 1s 7ms/step - loss: 0.2858 - acc: 0.8728 - val_loss: 0.2914 - val_acc: 0.8733\n",
            "Epoch 84/100\n",
            "86/86 [==============================] - 1s 8ms/step - loss: 0.2839 - acc: 0.8736 - val_loss: 0.2897 - val_acc: 0.8738\n",
            "Epoch 85/100\n",
            "86/86 [==============================] - 1s 7ms/step - loss: 0.2838 - acc: 0.8743 - val_loss: 0.2896 - val_acc: 0.8757\n",
            "Epoch 86/100\n",
            "86/86 [==============================] - 1s 7ms/step - loss: 0.2830 - acc: 0.8747 - val_loss: 0.2880 - val_acc: 0.8736\n",
            "Epoch 87/100\n",
            "86/86 [==============================] - 1s 6ms/step - loss: 0.2827 - acc: 0.8736 - val_loss: 0.2898 - val_acc: 0.8742\n",
            "Epoch 88/100\n",
            "86/86 [==============================] - 1s 8ms/step - loss: 0.2821 - acc: 0.8737 - val_loss: 0.2896 - val_acc: 0.8744\n",
            "Epoch 89/100\n",
            "86/86 [==============================] - 1s 6ms/step - loss: 0.2818 - acc: 0.8752 - val_loss: 0.2877 - val_acc: 0.8741\n",
            "Epoch 90/100\n",
            "86/86 [==============================] - 1s 7ms/step - loss: 0.2817 - acc: 0.8756 - val_loss: 0.2890 - val_acc: 0.8715\n",
            "Epoch 91/100\n",
            "86/86 [==============================] - 1s 7ms/step - loss: 0.2801 - acc: 0.8744 - val_loss: 0.2857 - val_acc: 0.8754\n",
            "Epoch 92/100\n",
            "86/86 [==============================] - 1s 8ms/step - loss: 0.2793 - acc: 0.8757 - val_loss: 0.2883 - val_acc: 0.8741\n",
            "Epoch 93/100\n",
            "86/86 [==============================] - 1s 9ms/step - loss: 0.2790 - acc: 0.8773 - val_loss: 0.2846 - val_acc: 0.8766\n",
            "Epoch 94/100\n",
            "86/86 [==============================] - 1s 12ms/step - loss: 0.2814 - acc: 0.8752 - val_loss: 0.2885 - val_acc: 0.8745\n",
            "Epoch 95/100\n",
            "86/86 [==============================] - 1s 11ms/step - loss: 0.2782 - acc: 0.8773 - val_loss: 0.2861 - val_acc: 0.8762\n",
            "Epoch 96/100\n",
            "86/86 [==============================] - 1s 10ms/step - loss: 0.2788 - acc: 0.8749 - val_loss: 0.2848 - val_acc: 0.8743\n",
            "Epoch 97/100\n",
            "86/86 [==============================] - 1s 9ms/step - loss: 0.2788 - acc: 0.8757 - val_loss: 0.2849 - val_acc: 0.8757\n",
            "Epoch 98/100\n",
            "86/86 [==============================] - 1s 6ms/step - loss: 0.2795 - acc: 0.8759 - val_loss: 0.2869 - val_acc: 0.8732\n",
            "Epoch 99/100\n",
            "86/86 [==============================] - 1s 7ms/step - loss: 0.2774 - acc: 0.8763 - val_loss: 0.2903 - val_acc: 0.8726\n",
            "Epoch 100/100\n",
            "86/86 [==============================] - 1s 7ms/step - loss: 0.2763 - acc: 0.8759 - val_loss: 0.2859 - val_acc: 0.8752\n"
          ]
        },
        {
          "output_type": "execute_result",
          "data": {
            "text/plain": [
              "<keras.callbacks.History at 0x7f5258329580>"
            ]
          },
          "metadata": {},
          "execution_count": 42
        }
      ],
      "source": [
        "import keras\n",
        "from keras.models import Sequential\n",
        "from keras.layers import Dense, Dropout, Activation\n",
        "from keras import regularizers\n",
        "# Tạo mô hình neural networks rỗng\n",
        "model = Sequential()\n",
        "\n",
        "# Thêm các lớp Layer \n",
        "model.add(Dense(200, input_dim = 17, kernel_initializer = 'normal', activation = 'relu'))\n",
        "model.add(Dropout(0.2))\n",
        "model.add(Dense(100, kernel_initializer = 'normal', activation = 'relu'))\n",
        "model.add(Dropout(0.2))\n",
        "model.add(Dense(2, kernel_initializer = 'normal', activation = 'softmax'))\n",
        "\n",
        "\n",
        "from tensorflow.keras.optimizers import Adam\n",
        "optimitzer = Adam(amsgrad=True)\n",
        "\n",
        "# Tổng hợp mô hình Neural networks để huấn luyện\n",
        "model.compile(loss='categorical_crossentropy', optimizer = optimitzer, metrics=['acc'])\n",
        "\n",
        "# Huấn luyện mô hình\n",
        "model.fit(X_train, y_train, epochs = 100, batch_size = 400, validation_data = (X_test, y_test), verbose = 1)"
      ]
    },
    {
      "cell_type": "markdown",
      "metadata": {
        "id": "_kYH4veFtA_z"
      },
      "source": [
        "### **<u>Nhận xét</u>:**\n",
        "- Mô hình không bị overfitting\n",
        "- Độ chính xác của mô hình là 0.875 => Mô hình dự đoán tốt"
      ]
    },
    {
      "cell_type": "markdown",
      "metadata": {
        "id": "J_Xee3OPtIZj"
      },
      "source": [
        "# **Phần kết luận:**\n"
      ]
    },
    {
      "cell_type": "markdown",
      "metadata": {
        "id": "gyZK_FVXuSXR"
      },
      "source": [
        "| No. | Model | Type | Precision |\n",
        "| :------: | :------: | :------: | :------: |\n",
        "|1|   Logistic Regression   |   -   |   0.776  |\n",
        "|2|   Decision Tree   |   Gini   |   0.868   |\n",
        "|3|   Random Forest   |   Gini   |   0.871   |\n",
        "|4|   KNN   |   -   |   0.907   |\n",
        "|5|   SVM   |   -   |   0.820   |\n",
        "|6|   Naive Bayes   |   Gaussian   |   0.571   |\n",
        "|7|   Neural Network   |   -   |   0.875  |"
      ]
    },
    {
      "cell_type": "markdown",
      "metadata": {
        "id": "WsXRFZ4Lzc1V"
      },
      "source": [
        "### **<u>Nhận xét</u>:**\n",
        "- Mô hình không bị overfitting\n",
        "- Mặc dù mô hình Logistic Regression có ưu điểm để phân loại dữ liệu nhị phân nhưng kết quả lại không tốt hơn các mô hình khác.\n",
        "- Mô hình có kết quả tốt nhất là mô hình KNN\n",
        "- Mô hình có kết quả tệ nhất là mô hình Naive Bayes"
      ]
    }
  ],
  "metadata": {
    "colab": {
      "provenance": []
    },
    "kernelspec": {
      "display_name": "Python 3 (ipykernel)",
      "language": "python",
      "name": "python3"
    },
    "language_info": {
      "codemirror_mode": {
        "name": "ipython",
        "version": 3
      },
      "file_extension": ".py",
      "mimetype": "text/x-python",
      "name": "python",
      "nbconvert_exporter": "python",
      "pygments_lexer": "ipython3",
      "version": "3.9.13"
    }
  },
  "nbformat": 4,
  "nbformat_minor": 0
}